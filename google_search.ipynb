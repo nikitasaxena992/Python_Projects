{
  "nbformat": 4,
  "nbformat_minor": 0,
  "metadata": {
    "colab": {
      "provenance": [],
      "collapsed_sections": [],
      "mount_file_id": "1ut8lyzbWdJ2DKAzgTSkfhhRdK5bjDIwJ",
      "authorship_tag": "ABX9TyMdWx5BRoDh01HqZkZfbMgG",
      "include_colab_link": true
    },
    "kernelspec": {
      "name": "python3",
      "display_name": "Python 3"
    },
    "language_info": {
      "name": "python"
    }
  },
  "cells": [
    {
      "cell_type": "markdown",
      "metadata": {
        "id": "view-in-github",
        "colab_type": "text"
      },
      "source": [
        "<a href=\"https://colab.research.google.com/github/nikitasaxena992/Python_Projects/blob/main/google_search.ipynb\" target=\"_parent\"><img src=\"https://colab.research.google.com/assets/colab-badge.svg\" alt=\"Open In Colab\"/></a>"
      ]
    },
    {
      "cell_type": "code",
      "execution_count": 3,
      "metadata": {
        "colab": {
          "base_uri": "https://localhost:8080/"
        },
        "id": "ROpqPcPaAl-D",
        "outputId": "26ed5d57-ff9b-4530-e755-79b99a1011f0"
      },
      "outputs": [
        {
          "output_type": "stream",
          "name": "stdout",
          "text": [
            "Looking in indexes: https://pypi.org/simple, https://us-python.pkg.dev/colab-wheels/public/simple/\n",
            "Requirement already satisfied: google in /usr/local/lib/python3.7/dist-packages (2.0.3)\n",
            "Requirement already satisfied: beautifulsoup4 in /usr/local/lib/python3.7/dist-packages (from google) (4.6.3)\n"
          ]
        }
      ],
      "source": [
        "!pip install google"
      ]
    },
    {
      "cell_type": "code",
      "source": [
        "!pip install beautifulsoup4"
      ],
      "metadata": {
        "colab": {
          "base_uri": "https://localhost:8080/"
        },
        "id": "FSXA3hcXAofi",
        "outputId": "ce9a50ca-9199-41c3-9c61-563de8b23aa9"
      },
      "execution_count": 4,
      "outputs": [
        {
          "output_type": "stream",
          "name": "stdout",
          "text": [
            "Looking in indexes: https://pypi.org/simple, https://us-python.pkg.dev/colab-wheels/public/simple/\n",
            "Requirement already satisfied: beautifulsoup4 in /usr/local/lib/python3.7/dist-packages (4.6.3)\n"
          ]
        }
      ]
    },
    {
      "cell_type": "code",
      "source": [
        "try:\n",
        "\tfrom googlesearch import search\n",
        "except ImportError:\n",
        "\tprint(\"No module named 'google' found\")\n",
        "import time\n",
        "import pandas as pd\n",
        "import requests"
      ],
      "metadata": {
        "id": "UFYDzSZKAujo"
      },
      "execution_count": 5,
      "outputs": []
    },
    {
      "cell_type": "code",
      "source": [
        "dfn = pd.read_excel('/content/135.xlsx')"
      ],
      "metadata": {
        "id": "RRoi2GMfBcBn"
      },
      "execution_count": 6,
      "outputs": []
    },
    {
      "cell_type": "code",
      "source": [],
      "metadata": {
        "id": "W-8de9iViXfa"
      },
      "execution_count": null,
      "outputs": []
    },
    {
      "cell_type": "code",
      "source": [
        "\n",
        "current_time = time.strftime(\"%Y%m%d_%H%M%S\")\n",
        "path_to_save = './linkedin_urls_{}.csv'.format(current_time)\n",
        "result = []\n",
        "count_res = []\n",
        "for index , row in dfn.iterrows():\n",
        "  item ={}\n",
        "  if row[0] and row[1] and row[2] != \" \":\n",
        "    query =row[0] +\" \"+ str(row[1]) +\" \"+ str(row[2])\n",
        "    query=\"\".join(query)\n",
        "    try:\n",
        "        for j in search(query, tld=\"co.in\", num=10, stop=10, pause=3):\n",
        "          if \"https://www.linkedin.com/in\" in j:\n",
        "                item['Name'] =row[0]\n",
        "                item['Job Title'] = row[1]\n",
        "                item['Company Name'] = row[2]\n",
        "                item['linkedin_url'] = j\n",
        "                result.append(item)\n",
        "                count_res.append(item)\n",
        "                df = pd.DataFrame(result)\n",
        "                df.to_csv(path_to_save, mode='a', index=False, header=False)\n",
        "                result = []\n",
        "                print('Total collected records: {}'.format(len(count_res)), end='\\r', flush=True)\n",
        "                break\n",
        "          else:\n",
        "              continue\n",
        "    except Exception as e:\n",
        "      print(e)\n",
        "  else:\n",
        "    print('----')\n",
        "    left_res = []\n",
        "    rem_item = {}\n",
        "    rem_item['name'] = row[0]\n",
        "    rem_item['job_title'] = row[1]\n",
        "    rem_item['company'] = row[2]\n",
        "    left_res.append(rem_item)\n",
        "    dfn = pd.DataFrame(left_res)\n",
        "    dfn.to_csv('no_linkedin_urls.csv',mode='a', index=False, header=False)\n",
        "  "
      ],
      "metadata": {
        "colab": {
          "base_uri": "https://localhost:8080/"
        },
        "id": "-0DC9mNhAy6Q",
        "outputId": "268d53ce-98e9-459b-cc50-b241a7518edf"
      },
      "execution_count": 8,
      "outputs": [
        {
          "output_type": "stream",
          "name": "stdout",
          "text": []
        }
      ]
    },
    {
      "cell_type": "code",
      "source": [],
      "metadata": {
        "id": "XX1BtbbuZFag"
      },
      "execution_count": 2,
      "outputs": []
    },
    {
      "cell_type": "code",
      "source": [],
      "metadata": {
        "id": "fqBdkgHxZHNf"
      },
      "execution_count": null,
      "outputs": []
    }
  ]
}